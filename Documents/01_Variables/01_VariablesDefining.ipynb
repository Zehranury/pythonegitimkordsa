{
 "cells": [
  {
   "attachments": {},
   "cell_type": "markdown",
   "metadata": {},
   "source": [
    "### Değişken Tanımlama\n",
    "* Kurallar\n",
    "- Numara ile başlayamaz\n",
    "- `_` dışında noktalama işareti kullanamayız\n",
    "- rezerve deyimler kullanılamaz\n",
    "```\n",
    "import keyword\n",
    "keyword.kwlist \n",
    "```\n",
    " "
   ]
  },
  {
   "cell_type": "code",
   "execution_count": 3,
   "metadata": {},
   "outputs": [
    {
     "data": {
      "text/plain": [
       "['False',\n",
       " 'None',\n",
       " 'True',\n",
       " 'and',\n",
       " 'as',\n",
       " 'assert',\n",
       " 'async',\n",
       " 'await',\n",
       " 'break',\n",
       " 'class',\n",
       " 'continue',\n",
       " 'def',\n",
       " 'del',\n",
       " 'elif',\n",
       " 'else',\n",
       " 'except',\n",
       " 'finally',\n",
       " 'for',\n",
       " 'from',\n",
       " 'global',\n",
       " 'if',\n",
       " 'import',\n",
       " 'in',\n",
       " 'is',\n",
       " 'lambda',\n",
       " 'nonlocal',\n",
       " 'not',\n",
       " 'or',\n",
       " 'pass',\n",
       " 'raise',\n",
       " 'return',\n",
       " 'try',\n",
       " 'while',\n",
       " 'with',\n",
       " 'yield']"
      ]
     },
     "execution_count": 3,
     "metadata": {},
     "output_type": "execute_result"
    }
   ],
   "source": [
    "import keyword\n",
    "keyword.kwlist "
   ]
  },
  {
   "attachments": {},
   "cell_type": "markdown",
   "metadata": {},
   "source": [
    "##### Notasyonlar\n",
    "* PASCAL Notasyon\n",
    "```\n",
    "VAR1 = 1\n",
    "```\n",
    "* CaMel Notasyon\n",
    "```\n",
    "adiSoyadi = \"İbrahim EDİZ\"\n",
    "```\n",
    "* Macar Notasyon\n",
    "```\n",
    "strAdiSoyadi = \"İbrahim EDİZ\"\n",
    "```"
   ]
  },
  {
   "cell_type": "code",
   "execution_count": 6,
   "metadata": {},
   "outputs": [],
   "source": [
    "var_1 = 1"
   ]
  },
  {
   "cell_type": "code",
   "execution_count": 8,
   "metadata": {},
   "outputs": [
    {
     "ename": "SyntaxError",
     "evalue": "invalid syntax (1504440605.py, line 1)",
     "output_type": "error",
     "traceback": [
      "\u001b[0;36m  Cell \u001b[0;32mIn[8], line 1\u001b[0;36m\u001b[0m\n\u001b[0;31m    1var = 1\u001b[0m\n\u001b[0m     ^\u001b[0m\n\u001b[0;31mSyntaxError\u001b[0m\u001b[0;31m:\u001b[0m invalid syntax\n"
     ]
    }
   ],
   "source": [
    "1var = 1"
   ]
  },
  {
   "attachments": {},
   "cell_type": "markdown",
   "metadata": {},
   "source": [
    "#### Veri Tipleri\n",
    "* int\n",
    "* float\n",
    "* complex\n",
    "* list\n",
    "* tuple\n",
    "* str\n",
    "* dict\n",
    "* set\n",
    "* bool"
   ]
  },
  {
   "cell_type": "code",
   "execution_count": 9,
   "metadata": {},
   "outputs": [],
   "source": [
    "var1 = 8 # int\n",
    "var2 = 8.0 # float\n",
    "var3 = 8.0 + 4j # complex\n",
    "var4 = [1,2,3,\"Ali\",\"Veli\",[1,2,3]] # list\n",
    "var5 = (1,2,3,\"Ali\",\"Veli\",[1,2,3]) # tuple\n",
    "var6 = \"Dijital Akademi\" # str\n",
    "var7 = {\"1\":\"Bir\",\"2\":\"İki\"}  # dict\n",
    "var8 = {1,2,3,4} # set \n",
    "var9 = True # bool"
   ]
  },
  {
   "attachments": {},
   "cell_type": "markdown",
   "metadata": {},
   "source": [
    "* type"
   ]
  },
  {
   "cell_type": "code",
   "execution_count": 10,
   "metadata": {},
   "outputs": [
    {
     "name": "stdout",
     "output_type": "stream",
     "text": [
      "<class 'int'>\n"
     ]
    }
   ],
   "source": [
    "print(type(var1))"
   ]
  },
  {
   "cell_type": "code",
   "execution_count": 11,
   "metadata": {},
   "outputs": [
    {
     "name": "stdout",
     "output_type": "stream",
     "text": [
      "var1= 8 Tipi: <class 'int'>\n",
      "var2= 8.0 Tipi: <class 'float'>\n",
      "var3= (8+4j) Tipi: <class 'complex'>\n",
      "var4= [1, 2, 3, 'Ali', 'Veli', [1, 2, 3]] Tipi: <class 'list'>\n",
      "var5= (1, 2, 3, 'Ali', 'Veli', [1, 2, 3]) Tipi: <class 'tuple'>\n",
      "var6= Dijital Akademi Tipi: <class 'str'>\n",
      "var7= {'1': 'Bir', '2': 'İki'} Tipi: <class 'dict'>\n",
      "var8= {1, 2, 3, 4} Tipi: <class 'set'>\n",
      "var9= True Tipi: <class 'bool'>\n"
     ]
    }
   ],
   "source": [
    "print(\"var1=\",var1,\"Tipi:\",type(var1))\n",
    "print(\"var2=\",var2,\"Tipi:\",type(var2))\n",
    "print(\"var3=\",var3,\"Tipi:\",type(var3))\n",
    "print(\"var4=\",var4,\"Tipi:\",type(var4))\n",
    "print(\"var5=\",var5,\"Tipi:\",type(var5))\n",
    "print(\"var6=\",var6,\"Tipi:\",type(var6))\n",
    "print(\"var7=\",var7,\"Tipi:\",type(var7))\n",
    "print(\"var8=\",var8,\"Tipi:\",type(var8))\n",
    "print(\"var9=\",var9,\"Tipi:\",type(var9))"
   ]
  },
  {
   "attachments": {},
   "cell_type": "markdown",
   "metadata": {},
   "source": [
    "Egzersiz1:<br>\n",
    "1. 3 farklı değişken tanımlayınız\n",
    "2. Bu 3 farklı değişken birbirinden farklı veri tipinde veriler tutsun\n",
    "3. Bu 3 farklı değişkenden birinin tipini print fonksiyonu ile ekrana yazdırınız<br>\n",
    "Egzersizleriniz adınıza oluşturulmuş klasördeki 01_01_Defining.py.py dosyası içerisinde yapabilirsiniz. "
   ]
  },
  {
   "cell_type": "code",
   "execution_count": null,
   "metadata": {},
   "outputs": [],
   "source": [
    "var1 = 15\n",
    "str1 = \"durmus\"\n",
    "list1 = [\"d\",15.0,25,]\n",
    "print(type(list1))"
   ]
  }
 ],
 "metadata": {
  "kernelspec": {
   "display_name": "Python 3",
   "language": "python",
   "name": "python3"
  },
  "language_info": {
   "codemirror_mode": {
    "name": "ipython",
    "version": 3
   },
   "file_extension": ".py",
   "mimetype": "text/x-python",
   "name": "python",
   "nbconvert_exporter": "python",
   "pygments_lexer": "ipython3",
   "version": "3.8.16 (default, Jan 10 2023, 15:23:34) \n[GCC 9.4.0]"
  },
  "orig_nbformat": 4,
  "vscode": {
   "interpreter": {
    "hash": "9ac03a0a6051494cc606d484d27d20fce22fb7b4d169f583271e11d5ba46a56e"
   }
  }
 },
 "nbformat": 4,
 "nbformat_minor": 2
}
